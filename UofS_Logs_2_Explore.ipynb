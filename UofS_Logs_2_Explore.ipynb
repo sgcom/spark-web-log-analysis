{
 "cells": [
  {
   "cell_type": "markdown",
   "metadata": {},
   "source": [
    "## Exploring a public Web server log dataset using Apache Spark"
   ]
  },
  {
   "cell_type": "markdown",
   "metadata": {},
   "source": [
    "## Part 2: Using SparkSQL and data frames to look into the data."
   ]
  },
  {
   "cell_type": "markdown",
   "metadata": {},
   "source": [
    "This notebook uses the Parquet data store created previously [[here]](https://github.com/sgcom/spark-web-log-analysis/blob/master/UofS_Logs_1_ETL.ipynb). \n",
    "\n",
    "#### Dataset source: http://ita.ee.lbl.gov/html/contrib/Sask-HTTP.html, available from [The Internet Traffic Archive](http://ita.ee.lbl.gov/index.html).\n",
    "\n",
    "#### Dataset description:\n",
    "\n",
    "This trace contains seven months’ worth of all HTTP requests to the University of Saskatchewan's WWW server. The University of Saskatchewan is located in Saskatoon, Saskatchewan, Canada.\n",
    "\n",
    "The log contains over **_2,400,000_** lines from **_June to December 1995_** - the early days of the World Wide Web.\n",
    "\n",
    "##### *Note: Requires Spark 1.5*"
   ]
  },
  {
   "cell_type": "markdown",
   "metadata": {},
   "source": [
    "### Initialize the Apache Spark context ; check out the Spark version and config."
   ]
  },
  {
   "cell_type": "code",
   "execution_count": 1,
   "metadata": {
    "collapsed": false
   },
   "outputs": [],
   "source": [
    "## Initialize\n",
    "#\n",
    "import findspark\n",
    "import os\n",
    "findspark.init()\n",
    "\n",
    "import pyspark\n",
    "sc = pyspark.SparkContext()"
   ]
  },
  {
   "cell_type": "code",
   "execution_count": 2,
   "metadata": {
    "collapsed": false
   },
   "outputs": [],
   "source": [
    "# Check the Spark context & config\n",
    "#\n",
    "# sc.version, sc._conf.getAll()"
   ]
  },
  {
   "cell_type": "markdown",
   "metadata": {
    "collapsed": true
   },
   "source": [
    "### Python imports and global settings"
   ]
  },
  {
   "cell_type": "code",
   "execution_count": 3,
   "metadata": {
    "collapsed": true
   },
   "outputs": [],
   "source": [
    "import re\n",
    "import math\n",
    "import time, datetime\n",
    "import os\n",
    "import operator as op\n",
    "from pyspark import *\n",
    "from pyspark.sql import Row, SQLContext\n",
    "from pyspark.sql.functions import *\n",
    "import matplotlib\n",
    "import matplotlib.pyplot as plt\n",
    "\n",
    "outputDir = './output'\n",
    "%precision 2\n",
    "%matplotlib inline"
   ]
  },
  {
   "cell_type": "markdown",
   "metadata": {
    "collapsed": true
   },
   "source": [
    "### Helpers"
   ]
  },
  {
   "cell_type": "code",
   "execution_count": 4,
   "metadata": {
    "collapsed": true
   },
   "outputs": [],
   "source": [
    "import csv\n",
    "\n",
    "def write_to_csv( file_name, header, values_list ):\n",
    "    csv_file = os.path.join(outputDir, file_name)\n",
    "    with open(csv_file, 'wb') as csvfile:\n",
    "        csvwriter = csv.writer(csvfile, delimiter=',', quotechar='\"', quoting=csv.QUOTE_MINIMAL)\n",
    "        csvwriter.writerow(header)\n",
    "        for v in values_list:\n",
    "            csvwriter.writerow(v)\n",
    "            \n",
    "week_day_map = { 1:'Mon', 2:'Tue', 3:'Wed', 4:'Thu', 5:'Fri', 6:'Sat', 7:'Sun' }"
   ]
  },
  {
   "cell_type": "markdown",
   "metadata": {
    "collapsed": true
   },
   "source": [
    "### Read from the Parquet store and register table"
   ]
  },
  {
   "cell_type": "code",
   "execution_count": 5,
   "metadata": {
    "collapsed": false
   },
   "outputs": [
    {
     "name": "stdout",
     "output_type": "stream",
     "text": [
      "root\n",
      " |-- date_time: timestamp (nullable = true)\n",
      " |-- epo_seconds: double (nullable = true)\n",
      " |-- http_status: long (nullable = true)\n",
      " |-- http_verb: string (nullable = true)\n",
      " |-- remote_host: string (nullable = true)\n",
      " |-- resp_size: long (nullable = true)\n",
      " |-- url: string (nullable = true)\n",
      " |-- user_id: string (nullable = true)\n",
      " |-- week_day: long (nullable = true)\n",
      "\n"
     ]
    }
   ],
   "source": [
    "sqlContext = SQLContext(sc)\n",
    "weblogDf = sqlContext.read.parquet(\"data/UofS_access_log.parquet\")\n",
    "weblogDf.registerTempTable(\"weblog\");\n",
    "weblogDf.printSchema()"
   ]
  },
  {
   "cell_type": "markdown",
   "metadata": {
    "collapsed": true
   },
   "source": [
    "#### Count of records - dataframe version."
   ]
  },
  {
   "cell_type": "code",
   "execution_count": 6,
   "metadata": {
    "collapsed": false
   },
   "outputs": [
    {
     "name": "stdout",
     "output_type": "stream",
     "text": [
      "CPU times: user 978 µs, sys: 186 µs, total: 1.16 ms\n",
      "Wall time: 1.01 s\n"
     ]
    },
    {
     "data": {
      "text/plain": [
       "2408580"
      ]
     },
     "execution_count": 6,
     "metadata": {},
     "output_type": "execute_result"
    }
   ],
   "source": [
    "% time weblogDf.count()"
   ]
  },
  {
   "cell_type": "markdown",
   "metadata": {
    "collapsed": true
   },
   "source": [
    "#### Count of records - SQL version."
   ]
  },
  {
   "cell_type": "code",
   "execution_count": 7,
   "metadata": {
    "collapsed": false
   },
   "outputs": [
    {
     "name": "stdout",
     "output_type": "stream",
     "text": [
      "+-------+\n",
      "|  count|\n",
      "+-------+\n",
      "|2408580|\n",
      "+-------+\n",
      "\n",
      "CPU times: user 303 µs, sys: 1.13 ms, total: 1.44 ms\n",
      "Wall time: 370 ms\n"
     ]
    }
   ],
   "source": [
    "%time sqlContext.sql(\"SELECT COUNT(*) AS count FROM weblog\").show()"
   ]
  },
  {
   "cell_type": "markdown",
   "metadata": {
    "collapsed": true
   },
   "source": [
    "#### Find all distinct URLs accessed from IP 128.95.226.85. In this case it happens to be only one unique endpoint. Using dataframe."
   ]
  },
  {
   "cell_type": "code",
   "execution_count": 8,
   "metadata": {
    "collapsed": false
   },
   "outputs": [
    {
     "name": "stdout",
     "output_type": "stream",
     "text": [
      "+-----------------+\n",
      "|              url|\n",
      "+-----------------+\n",
      "|/images/human.gif|\n",
      "+-----------------+\n",
      "\n",
      "CPU times: user 3.66 ms, sys: 86 µs, total: 3.74 ms\n",
      "Wall time: 1.69 s\n"
     ]
    }
   ],
   "source": [
    "## find all distinct URLs accessed from IP 128.95.226.85\n",
    "## using dataframe\n",
    "#\n",
    "%time weblogDf.filter(weblogDf['remote_host']=='128.95.226.85').select(['url']).distinct().show()\n",
    "\n",
    "# in this case it happens to be only one"
   ]
  },
  {
   "cell_type": "markdown",
   "metadata": {
    "collapsed": true
   },
   "source": [
    "#### Number of hits by HTTP Status for the full date range. Using dataframe."
   ]
  },
  {
   "cell_type": "code",
   "execution_count": 9,
   "metadata": {
    "collapsed": false
   },
   "outputs": [
    {
     "name": "stdout",
     "output_type": "stream",
     "text": [
      "+-----------+-------+\n",
      "|http_status|  count|\n",
      "+-----------+-------+\n",
      "|        200|2193512|\n",
      "|        304| 151634|\n",
      "|        302|  40716|\n",
      "|        404|  20963|\n",
      "|        400|    693|\n",
      "|        500|    538|\n",
      "|        403|    406|\n",
      "|        401|     98|\n",
      "|        501|     20|\n",
      "+-----------+-------+\n",
      "\n",
      "CPU times: user 3.98 ms, sys: 1.39 ms, total: 5.36 ms\n",
      "Wall time: 1.7 s\n",
      "+-----------+-------+\n",
      "|http_status|  count|\n",
      "+-----------+-------+\n",
      "|        200|2193512|\n",
      "|        302|  40716|\n",
      "|        304| 151634|\n",
      "|        400|    693|\n",
      "|        401|     98|\n",
      "|        403|    406|\n",
      "|        404|  20963|\n",
      "|        500|    538|\n",
      "|        501|     20|\n",
      "+-----------+-------+\n",
      "\n",
      "CPU times: user 3.03 ms, sys: 173 µs, total: 3.21 ms\n",
      "Wall time: 866 ms\n"
     ]
    }
   ],
   "source": [
    "## Number of hits by HTTP Status for the full date range\n",
    "#\n",
    "# Order by count\n",
    "%time weblogDf.groupBy(weblogDf.http_status).count().orderBy(desc('count')).show()\n",
    "# Order by status\n",
    "%time weblogDf.groupBy(weblogDf.http_status).count().orderBy('http_status').show()"
   ]
  },
  {
   "cell_type": "markdown",
   "metadata": {
    "collapsed": true
   },
   "source": [
    "#### Number of hits by HTTP Status for the full date range. "
   ]
  },
  {
   "cell_type": "code",
   "execution_count": 10,
   "metadata": {
    "collapsed": false
   },
   "outputs": [
    {
     "name": "stdout",
     "output_type": "stream",
     "text": [
      "+-----------+-------+\n",
      "|http_status|    cnt|\n",
      "+-----------+-------+\n",
      "|        200|2193512|\n",
      "|        302|  40716|\n",
      "|        304| 151634|\n",
      "|        400|    693|\n",
      "|        401|     98|\n",
      "|        403|    406|\n",
      "|        404|  20963|\n",
      "|        500|    538|\n",
      "|        501|     20|\n",
      "+-----------+-------+\n",
      "\n"
     ]
    },
    {
     "data": {
      "image/png": "[encoded data removed]",
      "text/plain": [
       "<matplotlib.figure.Figure at 0x7fc5975809d0>"
      ]
     },
     "metadata": {},
     "output_type": "display_data"
    }
   ],
   "source": [
    "## Total number of hits by HTTP Status - same as the data frame version above, now with SQL\n",
    "#\n",
    "#  same as:  weblogDf.groupBy(weblogDf.http_status).count().orderBy('http_status').show()\n",
    "#\n",
    "hpsDf = sqlContext.sql(\n",
    "    \"SELECT http_status, COUNT(*) cnt \"\n",
    "    \"  FROM weblog \"\n",
    "    \" GROUP BY http_status \"\n",
    "    \" ORDER BY http_status \")\n",
    "\n",
    "## show the result in text format\n",
    "#\n",
    "hpsDf.show()\n",
    "\n",
    "## Visualize using bar plot\n",
    "#\n",
    "collection = hpsDf.collect()\n",
    "xv = [x.http_status for x in collection]\n",
    "yv = [x.cnt for x in collection]\n",
    "xseq = range(0,len(xv))\n",
    "xlab = [str(x.http_status) for x in collection]\n",
    "#\n",
    "plt.bar(xseq, yv, align='center', alpha=0.4, log=True)\n",
    "plt.xticks(xseq, xlab)\n",
    "plt.grid(True)\n",
    "plt.title('Counts by HTTP status (log scale)')\n",
    "plt.xlabel('HTTP status code')\n",
    "plt.ylabel('Count requests')\n",
    "plt.show()"
   ]
  },
  {
   "cell_type": "markdown",
   "metadata": {
    "collapsed": true
   },
   "source": [
    "#### Number of hits by HTTP status code per day"
   ]
  },
  {
   "cell_type": "code",
   "execution_count": 11,
   "metadata": {
    "collapsed": false
   },
   "outputs": [
    {
     "name": "stdout",
     "output_type": "stream",
     "text": [
      "+----------+------+----+\n",
      "|      date|status| cnt|\n",
      "+----------+------+----+\n",
      "|1995-06-01|   200|5205|\n",
      "|1995-06-01|   302| 120|\n",
      "|1995-06-01|   304| 233|\n",
      "|1995-06-01|   400|   1|\n",
      "|1995-06-01|   404|  30|\n",
      "|1995-06-02|   200|6799|\n",
      "|1995-06-02|   302| 140|\n",
      "|1995-06-02|   304| 243|\n",
      "|1995-06-02|   404|  37|\n",
      "|1995-06-03|   200|3747|\n",
      "+----------+------+----+\n",
      "only showing top 10 rows\n",
      "\n"
     ]
    }
   ],
   "source": [
    "## HTTP status by day\n",
    "#\n",
    "sqlContext.sql(\n",
    "    \"SELECT to_date(date_time) date, http_status status, COUNT(*) cnt \"\n",
    "    \"  FROM weblog \"\n",
    "    \" GROUP BY to_date(date_time), http_status \"\n",
    "    \" ORDER BY date, status \"\n",
    "    \"\").show(10)"
   ]
  },
  {
   "cell_type": "markdown",
   "metadata": {
    "collapsed": true
   },
   "source": [
    "#### Histogram count HTTP requuests per day"
   ]
  },
  {
   "cell_type": "code",
   "execution_count": 12,
   "metadata": {
    "collapsed": false
   },
   "outputs": [
    {
     "data": {
      "image/png": "[encoded data removed]",
      "text/plain": [
       "<matplotlib.figure.Figure at 0x7fc597580b10>"
      ]
     },
     "metadata": {},
     "output_type": "display_data"
    }
   ],
   "source": [
    "result = sqlContext.sql(\n",
    "    \"SELECT COUNT(*) cnt \"\n",
    "    \"  FROM weblog \"\n",
    "    \" GROUP BY to_date(date_time) \"\n",
    "    \"\").collect()\n",
    "\n",
    "counts = [x.cnt for x in result]\n",
    "\n",
    "plt.hist(counts, bins=range(0,25000, 500), alpha=0.4)\n",
    "plt.xlabel('Count HTTP requests')\n",
    "plt.ylabel('Number of days')\n",
    "plt.title('Histogram Count Requests per Day')\n",
    "plt.grid(True)\n",
    "plt.show()"
   ]
  },
  {
   "cell_type": "markdown",
   "metadata": {
    "collapsed": true
   },
   "source": [
    "#### Histogram count HTTP requuests per remote host"
   ]
  },
  {
   "cell_type": "code",
   "execution_count": 13,
   "metadata": {
    "collapsed": false
   },
   "outputs": [
    {
     "data": {
      "image/png": "[encoded data removed]",
      "text/plain": [
       "<matplotlib.figure.Figure at 0x7fc5c00be390>"
      ]
     },
     "metadata": {},
     "output_type": "display_data"
    }
   ],
   "source": [
    "result = sqlContext.sql(\n",
    "    \"SELECT COUNT(*) cnt \"\n",
    "    \"  FROM weblog \"\n",
    "    \" GROUP BY remote_host \"\n",
    "    \"\").collect()\n",
    "\n",
    "counts = [x.cnt for x in result]\n",
    "#print counts\n",
    "plt.hist(counts, bins=range(0,5500,150), alpha=0.4, log=True)\n",
    "plt.xlabel('Count HTTP requests')\n",
    "plt.ylabel('Number of remote hosts')\n",
    "plt.title('Histogram Count Requests per Remote Host (log scale)')\n",
    "plt.grid(True)\n",
    "plt.show()"
   ]
  },
  {
   "cell_type": "markdown",
   "metadata": {
    "collapsed": true
   },
   "source": [
    "The histogram above shows a few outliers with unusually high counts. Out of curiosity, let's find them."
   ]
  },
  {
   "cell_type": "code",
   "execution_count": 14,
   "metadata": {
    "collapsed": false,
    "scrolled": false
   },
   "outputs": [
    {
     "name": "stdout",
     "output_type": "stream",
     "text": [
      "+----------------------------+-----+\n",
      "|remote_host                 |cnt  |\n",
      "+----------------------------+-----+\n",
      "|duke.usask.ca               |52695|\n",
      "|freenet.buffalo.edu         |29185|\n",
      "|sask.usask.ca               |27150|\n",
      "|broadway.sfn.saskatoon.sk.ca|20954|\n",
      "|moondog.usask.ca            |12980|\n",
      "|srv1.freenet.calgary.ab.ca  |11857|\n",
      "|ccn.cs.dal.ca               |10771|\n",
      "|hist6629.usask.ca           |8463 |\n",
      "|scooter.pa-x.dec.com        |7948 |\n",
      "|skynet.usask.ca             |7860 |\n",
      "|cwis.usask.ca               |7091 |\n",
      "|netinfo.ubc.ca              |6371 |\n",
      "|herald.usask.ca             |6211 |\n",
      "|sendit.sendit.nodak.edu     |5893 |\n",
      "|abyss.usask.ca              |5291 |\n",
      "|poppy.hensa.ac.uk           |5181 |\n",
      "|freenet3.carleton.ca        |5165 |\n",
      "|www.gnofn.org               |5038 |\n",
      "|explorer.sasknet.sk.ca      |4988 |\n",
      "|geol39.usask.ca             |4960 |\n",
      "|interchg.ubc.ca             |4670 |\n",
      "|alf.usask.ca                |4503 |\n",
      "|muskat.usask.ca             |4008 |\n",
      "|crimpshrine.atext.com       |3957 |\n",
      "|mac40212.usask.ca           |3914 |\n",
      "|sailor.lib.md.us            |3904 |\n",
      "|sklib.usask.ca              |3514 |\n",
      "+----------------------------+-----+\n",
      "\n"
     ]
    }
   ],
   "source": [
    "sqlContext.sql(\n",
    "    \"SELECT remote_host, COUNT(*) cnt \"\n",
    "    \"  FROM weblog \"\n",
    "    \" GROUP BY remote_host \"\n",
    "    \" HAVING cnt > 3500 \"\n",
    "    \" ORDER BY cnt DESC \"\n",
    "    \"\").show(50, truncate=False)"
   ]
  },
  {
   "cell_type": "markdown",
   "metadata": {
    "collapsed": true
   },
   "source": [
    "#### Top 10 dates with largest number of 404 errors"
   ]
  },
  {
   "cell_type": "code",
   "execution_count": 15,
   "metadata": {
    "collapsed": false
   },
   "outputs": [
    {
     "name": "stdout",
     "output_type": "stream",
     "text": [
      "+----------+---+---+\n",
      "|      date|dow|cnt|\n",
      "+----------+---+---+\n",
      "|1995-11-13|  1|416|\n",
      "|1995-11-22|  3|344|\n",
      "|1995-10-23|  1|342|\n",
      "|1995-10-26|  4|293|\n",
      "|1995-11-17|  5|288|\n",
      "|1995-10-10|  2|281|\n",
      "|1995-11-06|  1|270|\n",
      "|1995-11-29|  3|265|\n",
      "|1995-12-31|  7|263|\n",
      "|1995-11-20|  1|261|\n",
      "+----------+---+---+\n",
      "only showing top 10 rows\n",
      "\n"
     ]
    }
   ],
   "source": [
    "## Days with most 404 errors\n",
    "#\n",
    "sqlContext.sql(\n",
    "    \"SELECT to_date(date_time) date, week_day dow, COUNT(*) cnt \"\n",
    "    \"  FROM weblog \"\n",
    "    \" WHERE http_status = 404 \"\n",
    "    \" GROUP BY to_date(date_time), week_day \"\n",
    "    \" ORDER BY cnt DESC \"\n",
    "    \"\" ).show(10)"
   ]
  },
  {
   "cell_type": "markdown",
   "metadata": {
    "collapsed": true
   },
   "source": [
    "#### Top 10 URLs (endpoints) with largest number of 404 errors per URL."
   ]
  },
  {
   "cell_type": "code",
   "execution_count": 16,
   "metadata": {
    "collapsed": false
   },
   "outputs": [
    {
     "name": "stdout",
     "output_type": "stream",
     "text": [
      "+------------------------------------------------------------------------------------------+----+\n",
      "|url                                                                                       |cnt |\n",
      "+------------------------------------------------------------------------------------------+----+\n",
      "|/images/logi.gif                                                                          |1831|\n",
      "|/images/logo_32.gif;bytes=104-                                                            |791 |\n",
      "|/images/human.gif                                                                         |652 |\n",
      "|/psychiatry/ADDCentre.gif                                                                 |615 |\n",
      "|/people.shtml                                                                             |312 |\n",
      "|/agriculture/cropsci/winter_wheat/imgs/green.jpg                                          |296 |\n",
      "|/images/logo.gif;bytes=225-                                                               |266 |\n",
      "|/Canadiana                                                                                |255 |\n",
      "|/cgibin/hytelnet                                                                          |182 |\n",
      "|/11/Computing/Internet%20Information/Directory%20of%20Scholarly%20Electronic%20Conferences|181 |\n",
      "+------------------------------------------------------------------------------------------+----+\n",
      "only showing top 10 rows\n",
      "\n"
     ]
    }
   ],
   "source": [
    "## URLs (endpoints) with most 404 errors\n",
    "#\n",
    "sqlContext.sql(\n",
    "    \"SELECT url, COUNT(*) cnt \"\n",
    "    \"  FROM weblog \"\n",
    "    \" WHERE http_status = 404 \"\n",
    "    \" GROUP BY url \"\n",
    "    \" ORDER BY cnt DESC \"\n",
    "    \"\").show(10, truncate=False)"
   ]
  },
  {
   "cell_type": "markdown",
   "metadata": {},
   "source": [
    "#### Total number of HTTP requests by week day. Week strarts with Monday (1) and ends with Sunday (7)."
   ]
  },
  {
   "cell_type": "code",
   "execution_count": 17,
   "metadata": {
    "collapsed": false
   },
   "outputs": [
    {
     "name": "stdout",
     "output_type": "stream",
     "text": [
      "+--------+------+\n",
      "|week_day| count|\n",
      "+--------+------+\n",
      "|       1|365650|\n",
      "|       2|393913|\n",
      "|       3|399665|\n",
      "|       4|406376|\n",
      "|       5|373535|\n",
      "|       6|231013|\n",
      "|       7|238428|\n",
      "+--------+------+\n",
      "\n"
     ]
    }
   ],
   "source": [
    "## Total number of hits by day of week\n",
    "#\n",
    "hpwd = weblogDf.groupBy(weblogDf.week_day).count().orderBy('week_day')\n",
    "hpwd.show()"
   ]
  },
  {
   "cell_type": "markdown",
   "metadata": {},
   "source": [
    "##### Visualize the total number of hits by day of week"
   ]
  },
  {
   "cell_type": "code",
   "execution_count": 18,
   "metadata": {
    "collapsed": false
   },
   "outputs": [
    {
     "data": {
      "image/png": "[encoded data removed]",
      "text/plain": [
       "<matplotlib.figure.Figure at 0x7fc5950666d0>"
      ]
     },
     "metadata": {},
     "output_type": "display_data"
    }
   ],
   "source": [
    "hpwdc = hpwd.collect()\n",
    "v_week_day = map(lambda x: x[0], hpwdc)\n",
    "v_cnt_hits = map(lambda x: x[1], hpwdc)\n",
    "v_week_day_ab = map(lambda x: week_day_map[x[0]], hpwdc)\n",
    "\n",
    "plt.bar(v_week_day, v_cnt_hits, align='center', alpha=0.4)\n",
    "plt.xticks(v_week_day, v_week_day_ab)\n",
    "plt.grid(True)\n",
    "plt.title('Total number requests per week day')\n",
    "plt.show()"
   ]
  },
  {
   "cell_type": "markdown",
   "metadata": {},
   "source": [
    "#### Average number of hits (HTTP requests) by day of week Monday - Sunday."
   ]
  },
  {
   "cell_type": "code",
   "execution_count": 19,
   "metadata": {
    "collapsed": false,
    "scrolled": false
   },
   "outputs": [
    {
     "name": "stdout",
     "output_type": "stream",
     "text": [
      "+----+--------+\n",
      "|wday|avrg_hpd|\n",
      "+----+--------+\n",
      "|   1| 12188.3|\n",
      "|   2| 13130.4|\n",
      "|   3| 13322.2|\n",
      "|   4| 13108.9|\n",
      "|   5| 12049.5|\n",
      "|   6|  7452.0|\n",
      "|   7|  7691.2|\n",
      "+----+--------+\n",
      "\n"
     ]
    }
   ],
   "source": [
    "q = (\"SELECT  wday, round(hits_cnt/weeks_cnt, 1) AS avrg_hpd \"\n",
    "       \"FROM ( \"\n",
    "             \"SELECT week_day AS wday, COUNT(*) AS hits_cnt, COUNT(DISTINCT(to_date(date_time))) AS weeks_cnt \"\n",
    "             \"  FROM weblog \"\n",
    "             \" GROUP BY week_day \"\n",
    "             \") t2 \"\n",
    "     \"ORDER BY wday \"\n",
    "     )\n",
    "\n",
    "avg_hits_by_wday = sqlContext.sql(q)\n",
    "avg_hits_by_wday.show()"
   ]
  },
  {
   "cell_type": "markdown",
   "metadata": {},
   "source": [
    "##### Visualize the average number of hits by day of week"
   ]
  },
  {
   "cell_type": "code",
   "execution_count": 20,
   "metadata": {
    "collapsed": false
   },
   "outputs": [
    {
     "data": {
      "image/png": "[encoded data removed]",
      "text/plain": [
       "<matplotlib.figure.Figure at 0x7fc5917b8650>"
      ]
     },
     "metadata": {},
     "output_type": "display_data"
    }
   ],
   "source": [
    "avg_hits_by_wday_c = avg_hits_by_wday.collect()\n",
    "v_week_day = map(lambda x: x[0], avg_hits_by_wday_c)\n",
    "v_cnt_hits = map(lambda x: x[1], avg_hits_by_wday_c)\n",
    "v_week_day_ab = map(lambda x: week_day_map[x[0]], avg_hits_by_wday_c)\n",
    "\n",
    "plt.bar(v_week_day, v_cnt_hits, align='center', alpha=0.4)\n",
    "plt.xticks(v_week_day, v_week_day_ab)\n",
    "plt.grid(True)\n",
    "plt.title('Average number requests per week day')\n",
    "plt.show()"
   ]
  },
  {
   "cell_type": "markdown",
   "metadata": {},
   "source": [
    "#### Average count of requests per day by remote host (for the days a host was active). "
   ]
  },
  {
   "cell_type": "code",
   "execution_count": 21,
   "metadata": {
    "collapsed": false
   },
   "outputs": [
    {
     "name": "stdout",
     "output_type": "stream",
     "text": [
      "+---------------------------+--------+\n",
      "|host                       |avrg_hpd|\n",
      "+---------------------------+--------+\n",
      "|164.86.39.39               |255.0   |\n",
      "|br-b122-38.sheridanc.on.ca |249.0   |\n",
      "|duke.usask.ca              |246.2   |\n",
      "|acairsid.uwyo.edu          |228.0   |\n",
      "|canwebcrawler.sasknet.sk.ca|222.7   |\n",
      "|199.199.207.101            |218.0   |\n",
      "|ns.wcsr.com                |217.0   |\n",
      "|monzapc2.it.net            |210.0   |\n",
      "|p226513.sel2265.uic.edu    |179.0   |\n",
      "|skynet.usask.ca            |178.6   |\n",
      "+---------------------------+--------+\n",
      "only showing top 10 rows\n",
      "\n"
     ]
    }
   ],
   "source": [
    "## Average count of hits per day for each remote host \n",
    "## (for the days a host was active) by remote host. Using sub-query.\n",
    "#\n",
    "q = (\"SELECT  host, round(hits_cnt/days_cnt, 1) AS avrg_hpd \"\n",
    "       \"FROM ( \"\n",
    "             \"SELECT remote_host AS host, COUNT(*) AS hits_cnt, COUNT(DISTINCT(to_date(date_time))) AS days_cnt \"\n",
    "             \"  FROM weblog \"\n",
    "             \" GROUP BY remote_host \"\n",
    "             \") t2 \"\n",
    "     \"ORDER BY avrg_hpd DESC \"\n",
    "     )\n",
    "\n",
    "hpd_host = sqlContext.sql(q)\n",
    "hpd_host.show(10, truncate=False)\n",
    "hpd_host_c = hpd_host.collect()"
   ]
  },
  {
   "cell_type": "markdown",
   "metadata": {},
   "source": [
    "#### Write the above result to CSV, and check out a few numbers. "
   ]
  },
  {
   "cell_type": "code",
   "execution_count": 22,
   "metadata": {
    "collapsed": false
   },
   "outputs": [
    {
     "name": "stdout",
     "output_type": "stream",
     "text": [
      "Number distinct hosts:  162512\n"
     ]
    },
    {
     "data": {
      "text/plain": [
       "(Row(host=u'164.86.39.39', avrg_hpd=255.0),\n",
       " Row(host=u'br-b122-38.sheridanc.on.ca', avrg_hpd=249.0),\n",
       " Row(host=u'204.191.243.2', avrg_hpd=39.0),\n",
       " Row(host=u'slip35.vaxxine.com', avrg_hpd=15.0))"
      ]
     },
     "execution_count": 22,
     "metadata": {},
     "output_type": "execute_result"
    }
   ],
   "source": [
    "## write to CSV\n",
    "#\n",
    "write_to_csv('cnt_hits_per_day_by_host.csv', ['host', 'avrg_hpd'], hpd_host_c)\n",
    "\n",
    "## Check out a few results\n",
    "#\n",
    "print 'Number distinct hosts: ', len(hpd_host_c)\n",
    "hpd_host_c[0], hpd_host_c[1], hpd_host_c[999], hpd_host_c[9999]"
   ]
  },
  {
   "cell_type": "markdown",
   "metadata": {},
   "source": [
    "#### Count of requests per day and number distinct hosts per day for November and December "
   ]
  },
  {
   "cell_type": "code",
   "execution_count": 23,
   "metadata": {
    "collapsed": false
   },
   "outputs": [
    {
     "name": "stdout",
     "output_type": "stream",
     "text": [
      "+----------+--------+--------+---------+\n",
      "|      date|week_day|cnt_hits|cnt_hosts|\n",
      "+----------+--------+--------+---------+\n",
      "|1995-11-01|       3|   17021|     2419|\n",
      "|1995-11-02|       4|   17523|     2377|\n",
      "|1995-11-03|       5|   17430|     2232|\n",
      "|1995-11-04|       6|   10267|     1467|\n",
      "|1995-11-05|       7|   10393|     1473|\n",
      "|1995-11-06|       1|   17446|     2313|\n",
      "|1995-11-07|       2|   21166|     2512|\n",
      "|1995-11-08|       3|   18178|     2372|\n",
      "|1995-11-09|       4|   19906|     2265|\n",
      "|1995-11-10|       5|   13776|     1876|\n",
      "+----------+--------+--------+---------+\n",
      "only showing top 10 rows\n",
      "\n"
     ]
    }
   ],
   "source": [
    "## Count of requests per day and distinct hosts per day for November and December\n",
    "#\n",
    "q = (\"SELECT to_date(date_time) date, week_day, COUNT(*) cnt_hits, COUNT(DISTINCT(remote_host)) cnt_hosts \"\n",
    "     \"  FROM weblog \"\n",
    "     \" WHERE month(date_time) IN (11,12) \"\n",
    "     \" GROUP BY to_date(date_time), week_day \"\n",
    "     \" ORDER BY date\" \n",
    "    )\n",
    "\n",
    "novdec = sqlContext.sql(q)\n",
    "novdec_c = novdec.collect()\n",
    "novdec.show(10)"
   ]
  },
  {
   "cell_type": "markdown",
   "metadata": {},
   "source": [
    "##### Save to CSV and visualize the result"
   ]
  },
  {
   "cell_type": "code",
   "execution_count": 24,
   "metadata": {
    "collapsed": false
   },
   "outputs": [
    {
     "data": {
      "image/png": "[encoded data removed]",
      "text/plain": [
       "<matplotlib.figure.Figure at 0x7fc58ca237d0>"
      ]
     },
     "metadata": {},
     "output_type": "display_data"
    }
   ],
   "source": [
    "## Save to CSV and plot result\n",
    "#\n",
    "\n",
    "result2 = map(\n",
    "    lambda x: ['%4d-%02d-%02d' % \n",
    "               (x.date.year, x.date.month, x.date.day), \n",
    "               week_day_map[x.week_day], \n",
    "               x.cnt_hits, \n",
    "               x.cnt_hosts], \n",
    "    novdec_c)\n",
    "\n",
    "write_to_csv('cnt_requests_per_day_nov_dec.csv', ['date', 'week_day', 'cnt_hits', 'cnt_hosts'], result2)\n",
    "\n",
    "v_date     = map(lambda x: datetime.date(x[0].year, x[0].month, x[0].day), novdec_c)\n",
    "v_cnt_hits = map(lambda x: x[2], novdec_c)\n",
    "v_cnt_hosts= map(lambda x: x[3], novdec_c)\n",
    "\n",
    "fig1 = plt.figure(figsize = (16,6))\n",
    "plt.subplot(1,2,1)\n",
    "plt.plot(v_date,v_cnt_hits,'b-',label='hits')\n",
    "plt.plot(v_date,v_cnt_hosts,'r--',label='hosts')\n",
    "plt.xticks(rotation=75)\n",
    "plt.grid(True)\n",
    "plt.legend(loc='upper right')\n",
    "plt.ylabel('count')\n",
    "plt.subplot(1,2,2)\n",
    "plt.plot(v_cnt_hits, v_cnt_hosts, 'yo')\n",
    "plt.grid(True)\n",
    "plt.xlabel('count hits')\n",
    "plt.ylabel('count unique hosts')\n",
    "plt.show()"
   ]
  },
  {
   "cell_type": "markdown",
   "metadata": {},
   "source": [
    " * The first plot visualizes how the traffic changes over time. It is higher on business days and drops on weekends. Then it tends to drop even more during the holiday season in the end of December.\n",
    " * The second plot illustrates the relationship between total number of requests and count distinct hosts for the same period of time. Visually it appears to be very close to linear."
   ]
  },
  {
   "cell_type": "markdown",
   "metadata": {},
   "source": [
    "#### Active hosts\n",
    "\n",
    "Suppose we are interested in the most active hosts.\n",
    "There could be different definitions of \"active host\".\n",
    "Here we are selecting hosts that have been online at least 25 different days.\n",
    "Then we are registering a temporary table with columns host name (or IP) and number distinct days the host was active."
   ]
  },
  {
   "cell_type": "code",
   "execution_count": 25,
   "metadata": {
    "collapsed": false
   },
   "outputs": [
    {
     "name": "stdout",
     "output_type": "stream",
     "text": [
      "root\n",
      " |-- remote_host: string (nullable = true)\n",
      " |-- cnt: long (nullable = false)\n",
      "\n"
     ]
    }
   ],
   "source": [
    "q = (\"SELECT remote_host, COUNT(DISTINCT(to_date(date_time))) AS cnt \"\n",
    "     \"  FROM weblog \"\n",
    "     \" GROUP BY remote_host \"\n",
    "     \"HAVING cnt >= 25 \"\n",
    "     \" ORDER BY cnt DESC \"\n",
    "     )\n",
    "hostMultiDayDf = sqlContext.sql(q)\n",
    "hostMultiDayDf.registerTempTable('multi_day_hosts')\n",
    "hostMultiDayDf.printSchema()"
   ]
  },
  {
   "cell_type": "markdown",
   "metadata": {},
   "source": [
    "#### Count of active hosts"
   ]
  },
  {
   "cell_type": "code",
   "execution_count": 26,
   "metadata": {
    "collapsed": false
   },
   "outputs": [
    {
     "name": "stdout",
     "output_type": "stream",
     "text": [
      "+----+\n",
      "| cnt|\n",
      "+----+\n",
      "|1426|\n",
      "+----+\n",
      "\n"
     ]
    }
   ],
   "source": [
    "sqlContext.sql(\"SELECT count(*) cnt FROM multi_day_hosts\").show()"
   ]
  },
  {
   "cell_type": "markdown",
   "metadata": {},
   "source": [
    "#### The 10 most active hosts by number of days online"
   ]
  },
  {
   "cell_type": "code",
   "execution_count": 27,
   "metadata": {
    "collapsed": false
   },
   "outputs": [
    {
     "name": "stdout",
     "output_type": "stream",
     "text": [
      "+----------------------------+---+\n",
      "|remote_host                 |cnt|\n",
      "+----------------------------+---+\n",
      "|duke.usask.ca               |214|\n",
      "|broadway.sfn.saskatoon.sk.ca|214|\n",
      "|srv1.freenet.calgary.ab.ca  |214|\n",
      "|sask.usask.ca               |214|\n",
      "|moondog.usask.ca            |214|\n",
      "|freenet3.carleton.ca        |212|\n",
      "|ccn.cs.dal.ca               |210|\n",
      "|freenet.buffalo.edu         |210|\n",
      "|freenet2.carleton.ca        |210|\n",
      "|scn.org                     |208|\n",
      "+----------------------------+---+\n",
      "only showing top 10 rows\n",
      "\n"
     ]
    }
   ],
   "source": [
    "## The 10 most active hosts by number of days online\n",
    "#\n",
    "res = sqlContext.sql(\n",
    "    \"SELECT * \"\n",
    "      \"FROM multi_day_hosts \"\n",
    "    \" ORDER BY cnt DESC \"\n",
    "    \"\").show(10, truncate=False)"
   ]
  },
  {
   "cell_type": "markdown",
   "metadata": {},
   "source": [
    "#### Accessed URLs by host and date-time of access for the \"active\" hosts.\n",
    "\n",
    "Now we will join the two tables to select the sequence of URLs the ative hosts have accessed. We want them sorted by host and date-time of access. Showing the first 10 results."
   ]
  },
  {
   "cell_type": "code",
   "execution_count": 28,
   "metadata": {
    "collapsed": false
   },
   "outputs": [
    {
     "name": "stdout",
     "output_type": "stream",
     "text": [
      "count: 991399\n",
      "+--------------+---------------------+-----------------------+\n",
      "|remote_host   |date_time            |url                    |\n",
      "+--------------+---------------------+-----------------------+\n",
      "|128.233.10.226|1995-10-24 17:52:37.0|/                      |\n",
      "|128.233.10.226|1995-10-24 17:52:38.0|/images/logo.gif       |\n",
      "|128.233.10.226|1995-10-24 17:53:29.0|/                      |\n",
      "|128.233.10.226|1995-10-24 17:53:31.0|/images/logo.gif       |\n",
      "|128.233.10.226|1995-10-24 18:03:49.0|/                      |\n",
      "|128.233.10.226|1995-10-24 18:03:53.0|/images/logo.gif       |\n",
      "|128.233.10.226|1995-10-24 18:29:24.0|/                      |\n",
      "|128.233.10.226|1995-10-24 18:29:27.0|/images/logo.gif       |\n",
      "|128.233.10.226|1995-10-25 11:13:26.0|/                      |\n",
      "|128.233.10.226|1995-10-25 11:13:31.0|/images/logo.gif       |\n",
      "|128.233.10.226|1995-10-25 11:15:02.0|/search.html           |\n",
      "|128.233.10.226|1995-10-25 16:35:44.0|/                      |\n",
      "|128.233.10.226|1995-10-25 16:35:47.0|/images/logo.gif       |\n",
      "|128.233.10.226|1995-10-25 16:39:36.0|/search/index.html     |\n",
      "|128.233.10.226|1995-10-25 16:39:38.0|/images/logo_32.gif    |\n",
      "|128.233.10.226|1995-10-25 16:39:38.0|/images/binocs_32.gif  |\n",
      "|128.233.10.226|1995-10-25 16:39:38.0|/images/earth_32.gif   |\n",
      "|128.233.10.226|1995-10-25 16:39:39.0|/images/question_32.gif|\n",
      "|128.233.10.226|1995-10-25 16:39:41.0|/images/letter_32.gif  |\n",
      "|128.233.10.226|1995-10-25 16:39:43.0|/search/people.html    |\n",
      "+--------------+---------------------+-----------------------+\n",
      "only showing top 20 rows\n",
      "\n"
     ]
    }
   ],
   "source": [
    "q = (\"SELECT w.remote_host, w.date_time, w.url \"\n",
    "     \"  FROM  weblog w JOIN multi_day_hosts m ON w.remote_host=m.remote_host \"\n",
    "     \" ORDER BY w.remote_host, w.date_time \"\n",
    "     )\n",
    "result = sqlContext.sql(q)\n",
    "print 'count:', result.count()\n",
    "result.show(20, truncate=False)"
   ]
  },
  {
   "cell_type": "markdown",
   "metadata": {},
   "source": [
    "#### How many unique (distinct) URLs (endpoints) have been accessed in total? \n",
    "\n",
    "In fact, the number below includes also counts for same URL with distinct parameters. It does not mean that there are that many unique \"pages\"."
   ]
  },
  {
   "cell_type": "code",
   "execution_count": 29,
   "metadata": {
    "collapsed": false
   },
   "outputs": [
    {
     "name": "stdout",
     "output_type": "stream",
     "text": [
      "+------------+\n",
      "|cnt_uniq_url|\n",
      "+------------+\n",
      "|       36522|\n",
      "+------------+\n",
      "\n"
     ]
    }
   ],
   "source": [
    "q = (\"SELECT COUNT(DISTINCT(url)) AS cnt_uniq_url \"\n",
    "     \"  FROM weblog \"\n",
    "     )\n",
    "sqlContext.sql(q).show()"
   ]
  },
  {
   "cell_type": "markdown",
   "metadata": {},
   "source": [
    "#### The top 20 hosts by number of unuque URLs accessed for the full period of 7 months. Uniqueness is defined same way as above - considering URL + parameters."
   ]
  },
  {
   "cell_type": "code",
   "execution_count": 30,
   "metadata": {
    "collapsed": false
   },
   "outputs": [
    {
     "name": "stdout",
     "output_type": "stream",
     "text": [
      "+----------------------------+------------+\n",
      "|remote_host                 |cnt_uniq_url|\n",
      "+----------------------------+------------+\n",
      "|scooter.pa-x.dec.com        |3938        |\n",
      "|duke.usask.ca               |3390        |\n",
      "|cwis.usask.ca               |2233        |\n",
      "|access.usask.ca             |1472        |\n",
      "|sask.usask.ca               |1286        |\n",
      "|skynet.usask.ca             |1106        |\n",
      "|crimpshrine.atext.com       |1070        |\n",
      "|broadway.sfn.saskatoon.sk.ca|935         |\n",
      "|herald.usask.ca             |826         |\n",
      "|imhotep.usask.ca            |821         |\n",
      "|explorer.sasknet.sk.ca      |781         |\n",
      "|alf.usask.ca                |773         |\n",
      "|grapes.usask.ca             |769         |\n",
      "|muskat.usask.ca             |732         |\n",
      "|204.62.245.32               |674         |\n",
      "|mac40212.usask.ca           |659         |\n",
      "|poppy.hensa.ac.uk           |652         |\n",
      "|moondog.usask.ca            |612         |\n",
      "|skorpio3.usask.ca           |606         |\n",
      "|webgate1.mot.com            |589         |\n",
      "+----------------------------+------------+\n",
      "only showing top 20 rows\n",
      "\n"
     ]
    }
   ],
   "source": [
    "q = (\"SELECT remote_host, COUNT(DISTINCT(url)) AS cnt_uniq_url \"\n",
    "     \"  FROM weblog \"\n",
    "     \" GROUP BY remote_host \"\n",
    "     \" ORDER BY cnt_uniq_url DESC \"\n",
    "     )\n",
    "sqlContext.sql(q).show(20, truncate=False)\n"
   ]
  },
  {
   "cell_type": "markdown",
   "metadata": {
    "collapsed": true
   },
   "source": [
    "---"
   ]
  }
 ],
 "metadata": {
  "kernelspec": {
   "display_name": "Python 2",
   "language": "python",
   "name": "python2"
  },
  "language_info": {
   "codemirror_mode": {
    "name": "ipython",
    "version": 2
   },
   "file_extension": ".py",
   "mimetype": "text/x-python",
   "name": "python",
   "nbconvert_exporter": "python",
   "pygments_lexer": "ipython2",
   "version": "2.7.10"
  }
 },
 "nbformat": 4,
 "nbformat_minor": 0
}
