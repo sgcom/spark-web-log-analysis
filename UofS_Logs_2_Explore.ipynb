{
 "cells": [
  {
   "cell_type": "markdown",
   "metadata": {},
   "source": [
    "## Exploring a public Web server log dataset using Apache Spark"
   ]
  },
  {
   "cell_type": "markdown",
   "metadata": {},
   "source": [
    "## Part 2: Using SparkSQL and data frames to look into the data."
   ]
  },
  {
   "cell_type": "markdown",
   "metadata": {},
   "source": [
    "This notebook uses the Parquet data store created previously [[here]](https://github.com/sgcom/spark-web-log-analysis/blob/master/UofS_Logs_1_ETL.ipynb). \n",
    "\n",
    "#### Dataset source: http://ita.ee.lbl.gov/html/contrib/Sask-HTTP.html, available from [The Internet Traffic Archive](http://ita.ee.lbl.gov/index.html).\n",
    "\n",
    "#### Dataset description:\n",
    "\n",
    "This trace contains seven months’ worth of all HTTP requests to the University of Saskatchewan's WWW server. The University of Saskatchewan is located in Saskatoon, Saskatchewan, Canada.\n",
    "\n",
    "The log contains over **_2,400,000_** lines from **_June to December 1995_** - the early days of the World Wide Web."
   ]
  },
  {
   "cell_type": "markdown",
   "metadata": {},
   "source": [
    "### Initialize the Apache Spark context ; check out the Spark version and config."
   ]
  },
  {
   "cell_type": "code",
   "execution_count": 1,
   "metadata": {
    "collapsed": true
   },
   "outputs": [],
   "source": [
    "## Initialize\n",
    "#\n",
    "import findspark\n",
    "import os\n",
    "findspark.init()\n",
    "\n",
    "import pyspark\n",
    "sc = pyspark.SparkContext()"
   ]
  },
  {
   "cell_type": "code",
   "execution_count": 2,
   "metadata": {
    "collapsed": false
   },
   "outputs": [
    {
     "data": {
      "text/plain": [
       "(u'1.5.0',\n",
       " [(u'spark.driver.memory', u'6g'),\n",
       "  (u'spark.rdd.compress', u'True'),\n",
       "  (u'spark.master', u'local[8]'),\n",
       "  (u'spark.serializer.objectStreamReset', u'100'),\n",
       "  (u'spark.submit.deployMode', u'client'),\n",
       "  (u'spark.app.name', u'pyspark-shell')])"
      ]
     },
     "execution_count": 2,
     "metadata": {},
     "output_type": "execute_result"
    }
   ],
   "source": [
    "# Check the Spark context & config\n",
    "#\n",
    "sc.version, sc._conf.getAll()"
   ]
  },
  {
   "cell_type": "markdown",
   "metadata": {
    "collapsed": true
   },
   "source": [
    "### Python imports and global settings"
   ]
  },
  {
   "cell_type": "code",
   "execution_count": 3,
   "metadata": {
    "collapsed": true
   },
   "outputs": [],
   "source": [
    "import re\n",
    "import math\n",
    "import time, datetime\n",
    "import os\n",
    "import operator as op\n",
    "from pyspark import *\n",
    "from pyspark.sql import Row, SQLContext\n",
    "import matplotlib.pyplot as plt\n",
    "\n",
    "outputDir = './output'\n",
    "%precision 2\n",
    "%matplotlib inline"
   ]
  },
  {
   "cell_type": "markdown",
   "metadata": {
    "collapsed": true
   },
   "source": [
    "### Helpers"
   ]
  },
  {
   "cell_type": "code",
   "execution_count": 4,
   "metadata": {
    "collapsed": true
   },
   "outputs": [],
   "source": [
    "import csv\n",
    "\n",
    "def write_to_csv( file_name, header, values_list ):\n",
    "    csv_file = os.path.join(outputDir, file_name)\n",
    "    with open(csv_file, 'wb') as csvfile:\n",
    "        csvwriter = csv.writer(csvfile, delimiter=',', quotechar='\"', quoting=csv.QUOTE_MINIMAL)\n",
    "        csvwriter.writerow(header)\n",
    "        for v in values_list:\n",
    "            csvwriter.writerow(v)\n",
    "            \n",
    "week_day_map = { 1:'Mon', 2:'Tue', 3:'Wed', 4:'Thu', 5:'Fri', 6:'Sat', 7:'Sun' }"
   ]
  },
  {
   "cell_type": "markdown",
   "metadata": {
    "collapsed": true
   },
   "source": [
    "### Read from the Parquet format and register table"
   ]
  },
  {
   "cell_type": "code",
   "execution_count": 5,
   "metadata": {
    "collapsed": false
   },
   "outputs": [
    {
     "name": "stdout",
     "output_type": "stream",
     "text": [
      "root\n",
      " |-- date: date (nullable = true)\n",
      " |-- date_time: timestamp (nullable = true)\n",
      " |-- day: long (nullable = true)\n",
      " |-- epo_seconds: double (nullable = true)\n",
      " |-- hours: long (nullable = true)\n",
      " |-- http_status: long (nullable = true)\n",
      " |-- http_verb: string (nullable = true)\n",
      " |-- minutes: long (nullable = true)\n",
      " |-- month: long (nullable = true)\n",
      " |-- quarter_hour: double (nullable = true)\n",
      " |-- remote_host: string (nullable = true)\n",
      " |-- resp_size: long (nullable = true)\n",
      " |-- url: string (nullable = true)\n",
      " |-- user_id: string (nullable = true)\n",
      " |-- week_day: long (nullable = true)\n",
      " |-- year: long (nullable = true)\n",
      "\n"
     ]
    }
   ],
   "source": [
    "sqlContext = SQLContext(sc)\n",
    "weblogDf = sqlContext.read.parquet(\"data/UofS_access_log.parquet\")\n",
    "weblogDf.registerTempTable(\"weblog\");\n",
    "weblogDf.printSchema()"
   ]
  },
  {
   "cell_type": "markdown",
   "metadata": {
    "collapsed": true
   },
   "source": [
    "#### Count of records - dataframe version."
   ]
  },
  {
   "cell_type": "code",
   "execution_count": 6,
   "metadata": {
    "collapsed": false
   },
   "outputs": [
    {
     "name": "stdout",
     "output_type": "stream",
     "text": [
      "CPU times: user 998 µs, sys: 184 µs, total: 1.18 ms\n",
      "Wall time: 1.03 s\n"
     ]
    },
    {
     "data": {
      "text/plain": [
       "2408580"
      ]
     },
     "execution_count": 6,
     "metadata": {},
     "output_type": "execute_result"
    }
   ],
   "source": [
    "% time weblogDf.count()"
   ]
  },
  {
   "cell_type": "markdown",
   "metadata": {
    "collapsed": true
   },
   "source": [
    "#### Count of records - SQL version."
   ]
  },
  {
   "cell_type": "code",
   "execution_count": 7,
   "metadata": {
    "collapsed": false
   },
   "outputs": [
    {
     "name": "stdout",
     "output_type": "stream",
     "text": [
      "CPU times: user 3.08 ms, sys: 19 µs, total: 3.1 ms\n",
      "Wall time: 406 ms\n"
     ]
    },
    {
     "data": {
      "text/plain": [
       "[Row(count=2408580)]"
      ]
     },
     "execution_count": 7,
     "metadata": {},
     "output_type": "execute_result"
    }
   ],
   "source": [
    "%time sqlContext.sql(\"SELECT COUNT(*) AS count FROM weblog\").collect()"
   ]
  },
  {
   "cell_type": "markdown",
   "metadata": {
    "collapsed": true
   },
   "source": [
    "#### Find all distinct URLs accessed from IP 128.95.226.85. In this case it happens to be only one unique endpoint. Using dataframe."
   ]
  },
  {
   "cell_type": "code",
   "execution_count": 8,
   "metadata": {
    "collapsed": false
   },
   "outputs": [
    {
     "name": "stdout",
     "output_type": "stream",
     "text": [
      "+-----------------+\n",
      "|              url|\n",
      "+-----------------+\n",
      "|/images/human.gif|\n",
      "+-----------------+\n",
      "\n",
      "CPU times: user 2.48 ms, sys: 1.13 ms, total: 3.61 ms\n",
      "Wall time: 1.87 s\n"
     ]
    }
   ],
   "source": [
    "## find all distinct URLs accessed from IP 128.95.226.85\n",
    "## using dataframe\n",
    "#\n",
    "%time weblogDf.filter(weblogDf['remote_host']=='128.95.226.85').select(['url']).distinct().show()"
   ]
  },
  {
   "cell_type": "markdown",
   "metadata": {
    "collapsed": true
   },
   "source": [
    "#### Number of hits by HTTP Status for the full date range. Using dataframe."
   ]
  },
  {
   "cell_type": "code",
   "execution_count": 9,
   "metadata": {
    "collapsed": false
   },
   "outputs": [
    {
     "name": "stdout",
     "output_type": "stream",
     "text": [
      "CPU times: user 7.15 ms, sys: 3.56 ms, total: 10.7 ms\n",
      "Wall time: 2.06 s\n"
     ]
    },
    {
     "data": {
      "text/plain": [
       "[Row(http_status=200, count=2193512),\n",
       " Row(http_status=304, count=151634),\n",
       " Row(http_status=302, count=40716),\n",
       " Row(http_status=404, count=20963),\n",
       " Row(http_status=400, count=693),\n",
       " Row(http_status=500, count=538),\n",
       " Row(http_status=403, count=406),\n",
       " Row(http_status=401, count=98),\n",
       " Row(http_status=501, count=20)]"
      ]
     },
     "execution_count": 9,
     "metadata": {},
     "output_type": "execute_result"
    }
   ],
   "source": [
    "## Number of hits by HTTP Status for the full date range\n",
    "#\n",
    "from pyspark.sql.functions import desc\n",
    "#\n",
    "%time weblogDf.groupBy(weblogDf.http_status).count().orderBy(desc('count')).collect()"
   ]
  },
  {
   "cell_type": "markdown",
   "metadata": {
    "collapsed": true
   },
   "source": [
    "#### Same as above now with SQL. Number of hits by HTTP Status for the full date range."
   ]
  },
  {
   "cell_type": "code",
   "execution_count": 10,
   "metadata": {
    "collapsed": false
   },
   "outputs": [
    {
     "data": {
      "text/plain": [
       "[Row(http_status=200, cnt=2193512),\n",
       " Row(http_status=304, cnt=151634),\n",
       " Row(http_status=302, cnt=40716),\n",
       " Row(http_status=404, cnt=20963),\n",
       " Row(http_status=400, cnt=693),\n",
       " Row(http_status=500, cnt=538),\n",
       " Row(http_status=403, cnt=406),\n",
       " Row(http_status=401, cnt=98),\n",
       " Row(http_status=501, cnt=20)]"
      ]
     },
     "execution_count": 10,
     "metadata": {},
     "output_type": "execute_result"
    }
   ],
   "source": [
    "## Total number of hits by HTTP Status - same as the data frame version above, now with SQL\n",
    "#\n",
    "#  same as:  weblogDf.groupBy(weblogDf.http_status).count().orderBy(desc('count')).collect()\n",
    "#\n",
    "sqlContext.sql(\n",
    "    \"SELECT http_status, COUNT(*) cnt \"\n",
    "    \"  FROM weblog \"\n",
    "    \" GROUP BY http_status \"\n",
    "    \" ORDER BY cnt DESC \").collect()"
   ]
  },
  {
   "cell_type": "markdown",
   "metadata": {
    "collapsed": true
   },
   "source": [
    "#### Number of hits by distinct HTTP status code for every day. Only the first 10 results are shown."
   ]
  },
  {
   "cell_type": "code",
   "execution_count": 11,
   "metadata": {
    "collapsed": false
   },
   "outputs": [
    {
     "data": {
      "text/plain": [
       "[Row(date=datetime.date(1995, 6, 1), http_status=200, cnt=5205),\n",
       " Row(date=datetime.date(1995, 6, 1), http_status=302, cnt=120),\n",
       " Row(date=datetime.date(1995, 6, 1), http_status=304, cnt=233),\n",
       " Row(date=datetime.date(1995, 6, 1), http_status=400, cnt=1),\n",
       " Row(date=datetime.date(1995, 6, 1), http_status=404, cnt=30),\n",
       " Row(date=datetime.date(1995, 6, 2), http_status=200, cnt=6799),\n",
       " Row(date=datetime.date(1995, 6, 2), http_status=302, cnt=140),\n",
       " Row(date=datetime.date(1995, 6, 2), http_status=304, cnt=243),\n",
       " Row(date=datetime.date(1995, 6, 2), http_status=404, cnt=37),\n",
       " Row(date=datetime.date(1995, 6, 3), http_status=200, cnt=3747)]"
      ]
     },
     "execution_count": 11,
     "metadata": {},
     "output_type": "execute_result"
    }
   ],
   "source": [
    "## HTTP status by day\n",
    "#\n",
    "sqlContext.sql(\n",
    "    \"SELECT date, http_status, COUNT(*) cnt \"\n",
    "    \"  FROM weblog \"\n",
    "    \" GROUP BY date, http_status \"\n",
    "    \" ORDER BY date, http_status \"\n",
    "    \" LIMIT 10 \").collect()"
   ]
  },
  {
   "cell_type": "markdown",
   "metadata": {
    "collapsed": true
   },
   "source": [
    "#### Top 20 dates with largest number of 404 errors"
   ]
  },
  {
   "cell_type": "code",
   "execution_count": 12,
   "metadata": {
    "collapsed": false
   },
   "outputs": [
    {
     "data": {
      "text/plain": [
       "[Row(date=datetime.date(1995, 11, 13), week_day=1, cnt=416),\n",
       " Row(date=datetime.date(1995, 11, 22), week_day=3, cnt=344),\n",
       " Row(date=datetime.date(1995, 10, 23), week_day=1, cnt=342),\n",
       " Row(date=datetime.date(1995, 10, 26), week_day=4, cnt=293),\n",
       " Row(date=datetime.date(1995, 11, 17), week_day=5, cnt=288),\n",
       " Row(date=datetime.date(1995, 10, 10), week_day=2, cnt=281),\n",
       " Row(date=datetime.date(1995, 11, 6), week_day=1, cnt=270),\n",
       " Row(date=datetime.date(1995, 11, 29), week_day=3, cnt=265),\n",
       " Row(date=datetime.date(1995, 12, 31), week_day=7, cnt=263),\n",
       " Row(date=datetime.date(1995, 11, 20), week_day=1, cnt=261),\n",
       " Row(date=datetime.date(1995, 12, 2), week_day=6, cnt=238),\n",
       " Row(date=datetime.date(1995, 11, 7), week_day=2, cnt=235),\n",
       " Row(date=datetime.date(1995, 11, 12), week_day=7, cnt=230),\n",
       " Row(date=datetime.date(1995, 9, 19), week_day=2, cnt=229),\n",
       " Row(date=datetime.date(1995, 9, 18), week_day=1, cnt=229),\n",
       " Row(date=datetime.date(1995, 11, 9), week_day=4, cnt=222),\n",
       " Row(date=datetime.date(1995, 11, 19), week_day=7, cnt=217),\n",
       " Row(date=datetime.date(1995, 11, 26), week_day=7, cnt=215),\n",
       " Row(date=datetime.date(1995, 10, 27), week_day=5, cnt=213),\n",
       " Row(date=datetime.date(1995, 10, 30), week_day=1, cnt=206)]"
      ]
     },
     "execution_count": 12,
     "metadata": {},
     "output_type": "execute_result"
    }
   ],
   "source": [
    "## Days with most 404 errors\n",
    "#\n",
    "sqlContext.sql(\n",
    "    \"SELECT date, week_day, COUNT(*) cnt \"\n",
    "    \"  FROM weblog \"\n",
    "    \" WHERE http_status = 404 \"\n",
    "    \" GROUP BY date, week_day \"\n",
    "    \" ORDER BY cnt DESC \"\n",
    "    \" LIMIT 20 \").collect()"
   ]
  },
  {
   "cell_type": "markdown",
   "metadata": {
    "collapsed": true
   },
   "source": [
    "#### Top 20 URLs (endpoints) with largest number of 404 errors per URL."
   ]
  },
  {
   "cell_type": "code",
   "execution_count": 13,
   "metadata": {
    "collapsed": false
   },
   "outputs": [
    {
     "data": {
      "text/plain": [
       "[Row(url=u'/images/logi.gif', cnt=1831),\n",
       " Row(url=u'/images/logo_32.gif;bytes=104-', cnt=791),\n",
       " Row(url=u'/images/human.gif', cnt=652),\n",
       " Row(url=u'/psychiatry/ADDCentre.gif', cnt=615),\n",
       " Row(url=u'/people.shtml', cnt=312),\n",
       " Row(url=u'/agriculture/cropsci/winter_wheat/imgs/green.jpg', cnt=296),\n",
       " Row(url=u'/images/logo.gif;bytes=225-', cnt=266),\n",
       " Row(url=u'/Canadiana', cnt=255),\n",
       " Row(url=u'/cgibin/hytelnet', cnt=182),\n",
       " Row(url=u'/11/Computing/Internet%20Information/Directory%20of%20Scholarly%20Electronic%20Conferences', cnt=181),\n",
       " Row(url=u'/Mosaic/Docs/whats-new-graphics/NCSAWN-MOS.gif', cnt=168),\n",
       " Row(url=u'/Mosaic/Docs/whats-new-graphics/NCSAWN.gif', cnt=166),\n",
       " Row(url=u'/Mosaic/Docs/whats-new-graphics/NCSAWN-GNN.gif', cnt=166),\n",
       " Row(url=u'/des/courses/cai/html/', cnt=154),\n",
       " Row(url=u'/psychiatry/teach.html', cnt=153),\n",
       " Row(url=u'/doc/htmlqref.html', cnt=152),\n",
       " Row(url=u'/medicine/ces/policies.htm', cnt=146),\n",
       " Row(url=u'/hytelnet/start.txt.html', cnt=143),\n",
       " Row(url=u'/images/prism-small.gif', cnt=141),\n",
       " Row(url=u'/history/#HIST', cnt=132)]"
      ]
     },
     "execution_count": 13,
     "metadata": {},
     "output_type": "execute_result"
    }
   ],
   "source": [
    "## URLs (endpoints) with most 404 errors\n",
    "#\n",
    "sqlContext.sql(\n",
    "    \"SELECT url, COUNT(*) cnt \"\n",
    "    \"  FROM weblog \"\n",
    "    \" WHERE http_status = 404 \"\n",
    "    \" GROUP BY url \"\n",
    "    \" ORDER BY cnt DESC \"\n",
    "    \" LIMIT 20 \").collect()"
   ]
  },
  {
   "cell_type": "markdown",
   "metadata": {},
   "source": [
    "#### Total number of HTTP requests by week day. Week strarts with Monday (1) and ends with Sunday (7)."
   ]
  },
  {
   "cell_type": "code",
   "execution_count": 14,
   "metadata": {
    "collapsed": false
   },
   "outputs": [
    {
     "data": {
      "text/plain": [
       "[Row(week_day=1, count=365650),\n",
       " Row(week_day=2, count=393913),\n",
       " Row(week_day=3, count=399665),\n",
       " Row(week_day=4, count=406376),\n",
       " Row(week_day=5, count=373535),\n",
       " Row(week_day=6, count=231013),\n",
       " Row(week_day=7, count=238428)]"
      ]
     },
     "execution_count": 14,
     "metadata": {},
     "output_type": "execute_result"
    }
   ],
   "source": [
    "## Total number of hits by day of week\n",
    "#\n",
    "hpwd = weblogDf.groupBy(weblogDf.week_day).count().orderBy('week_day').collect()\n",
    "hpwd\n"
   ]
  },
  {
   "cell_type": "markdown",
   "metadata": {},
   "source": [
    "##### Visualize the total number of hits by day of week"
   ]
  },
  {
   "cell_type": "code",
   "execution_count": 15,
   "metadata": {
    "collapsed": false
   },
   "outputs": [
    {
     "data": {
      "image/png": "[encoded data removed]",
      "text/plain": [
       "<matplotlib.figure.Figure at 0x7f82c80b1110>"
      ]
     },
     "metadata": {},
     "output_type": "display_data"
    }
   ],
   "source": [
    "v_week_day = map(lambda x: x[0], hpwd)\n",
    "v_cnt_hits = map(lambda x: x[1], hpwd)\n",
    "v_week_day_ab = map(lambda x: week_day_map[x[0]], hpwd)\n",
    "\n",
    "plt.bar(v_week_day, v_cnt_hits, align='center', alpha=0.4)\n",
    "plt.xticks(v_week_day, v_week_day_ab)\n",
    "plt.grid(True)\n",
    "plt.title('Total number requests per week day')\n",
    "plt.show()"
   ]
  },
  {
   "cell_type": "markdown",
   "metadata": {},
   "source": [
    "#### Average number of hits (HTTP requests) by day of week Monday - Sunday."
   ]
  },
  {
   "cell_type": "code",
   "execution_count": 16,
   "metadata": {
    "collapsed": false,
    "scrolled": false
   },
   "outputs": [
    {
     "data": {
      "text/plain": [
       "[Row(wday=1, avrg_hpd=12188.333333333334),\n",
       " Row(wday=2, avrg_hpd=13130.433333333332),\n",
       " Row(wday=3, avrg_hpd=13322.166666666666),\n",
       " Row(wday=4, avrg_hpd=13108.90322580645),\n",
       " Row(wday=5, avrg_hpd=12049.516129032258),\n",
       " Row(wday=6, avrg_hpd=7452.032258064516),\n",
       " Row(wday=7, avrg_hpd=7691.225806451613)]"
      ]
     },
     "execution_count": 16,
     "metadata": {},
     "output_type": "execute_result"
    }
   ],
   "source": [
    "q = (\"SELECT  wday, hits_cnt/weeks_cnt AS avrg_hpd \"\n",
    "       \"FROM ( \"\n",
    "             \"SELECT week_day AS wday, COUNT(*) AS hits_cnt, COUNT(DISTINCT(date)) AS weeks_cnt \"\n",
    "             \"  FROM weblog \"\n",
    "             \" GROUP BY week_day \"\n",
    "             \") t2 \"\n",
    "     \"ORDER BY wday \"\n",
    "     )\n",
    "\n",
    "avg_hits_by_wday = sqlContext.sql(q).collect()\n",
    "avg_hits_by_wday"
   ]
  },
  {
   "cell_type": "markdown",
   "metadata": {},
   "source": [
    "##### Visualize the average number of hits by day of week"
   ]
  },
  {
   "cell_type": "code",
   "execution_count": 17,
   "metadata": {
    "collapsed": false
   },
   "outputs": [
    {
     "data": {
      "image/png": "[encoded data removed]",
      "text/plain": [
       "<matplotlib.figure.Figure at 0x7f82c5f9fbd0>"
      ]
     },
     "metadata": {},
     "output_type": "display_data"
    }
   ],
   "source": [
    "v_week_day = map(lambda x: x[0], avg_hits_by_wday)\n",
    "v_cnt_hits = map(lambda x: x[1], avg_hits_by_wday)\n",
    "v_week_day_ab = map(lambda x: week_day_map[x[0]], avg_hits_by_wday)\n",
    "\n",
    "plt.bar(v_week_day, v_cnt_hits, align='center', alpha=0.4)\n",
    "plt.xticks(v_week_day, v_week_day_ab)\n",
    "plt.grid(True)\n",
    "plt.title('Average number requests per week day')\n",
    "plt.show()"
   ]
  },
  {
   "cell_type": "markdown",
   "metadata": {},
   "source": [
    "#### Average count of requests per day by remote host (for the days a host was active). "
   ]
  },
  {
   "cell_type": "code",
   "execution_count": 18,
   "metadata": {
    "collapsed": false
   },
   "outputs": [],
   "source": [
    "## Average count of hits per day for each remote host \n",
    "## (for the days a host was active) by remote host. Using sub-query.\n",
    "#\n",
    "q = (\"SELECT  host, hits_cnt/days_cnt AS avrg_hpd \"\n",
    "       \"FROM ( \"\n",
    "             \"SELECT remote_host AS host, COUNT(*) AS hits_cnt, COUNT(DISTINCT(date)) AS days_cnt \"\n",
    "             \"  FROM weblog \"\n",
    "             \" GROUP BY remote_host \"\n",
    "             \") t2 \"\n",
    "     \"ORDER BY avrg_hpd DESC \"\n",
    "     )\n",
    "\n",
    "result = sqlContext.sql(q).collect()"
   ]
  },
  {
   "cell_type": "markdown",
   "metadata": {},
   "source": [
    "#### Write the above result to CSV, and check out a few numbers. "
   ]
  },
  {
   "cell_type": "code",
   "execution_count": 19,
   "metadata": {
    "collapsed": false
   },
   "outputs": [
    {
     "name": "stdout",
     "output_type": "stream",
     "text": [
      "Number distinct hosts:  162512\n"
     ]
    },
    {
     "data": {
      "text/plain": [
       "(Row(host=u'164.86.39.39', avrg_hpd=255.0),\n",
       " Row(host=u'br-b122-38.sheridanc.on.ca', avrg_hpd=249.0),\n",
       " Row(host=u'204.191.243.2', avrg_hpd=39.0),\n",
       " Row(host=u'slip35.vaxxine.com', avrg_hpd=15.0))"
      ]
     },
     "execution_count": 19,
     "metadata": {},
     "output_type": "execute_result"
    }
   ],
   "source": [
    "## write to CSV\n",
    "#\n",
    "write_to_csv('cnt_hits_per_day_by_host.csv', ['host', 'avrg_hpd'], result)\n",
    "\n",
    "## Check out a few results\n",
    "#\n",
    "print 'Number distinct hosts: ', len(result)\n",
    "result[0], result[1], result[999], result[9999]"
   ]
  },
  {
   "cell_type": "markdown",
   "metadata": {},
   "source": [
    "#### Count of requests per day and number distinct hosts per day for November and December "
   ]
  },
  {
   "cell_type": "code",
   "execution_count": 20,
   "metadata": {
    "collapsed": true
   },
   "outputs": [],
   "source": [
    "## Count of requests per day and distinct hosts per day for November and December\n",
    "#\n",
    "q = (\"SELECT date, week_day, COUNT(*) cnt_hits, COUNT(DISTINCT(remote_host)) cnt_hosts \"\n",
    "     \"  FROM weblog \"\n",
    "     \" WHERE month IN (11,12) \"\n",
    "     \" GROUP BY date, week_day \"\n",
    "     \" ORDER BY date\" \n",
    "    )\n",
    "\n",
    "result = sqlContext.sql(q).collect()"
   ]
  },
  {
   "cell_type": "markdown",
   "metadata": {},
   "source": [
    "##### Save to CSV and visualize the result"
   ]
  },
  {
   "cell_type": "code",
   "execution_count": 21,
   "metadata": {
    "collapsed": false
   },
   "outputs": [
    {
     "data": {
      "image/png": "[encoded data removed]",
      "text/plain": [
       "<matplotlib.figure.Figure at 0x7f82c809fb50>"
      ]
     },
     "metadata": {},
     "output_type": "display_data"
    }
   ],
   "source": [
    "## Save to CSV and plot result\n",
    "#\n",
    "\n",
    "result2 = map(\n",
    "    lambda x: ['%4d-%02d-%02d' % \n",
    "               (x.date.year, x.date.month, x.date.day), \n",
    "               week_day_map[x.week_day], \n",
    "               x.cnt_hits, \n",
    "               x.cnt_hosts], \n",
    "    result)\n",
    "\n",
    "write_to_csv('cnt_requests_per_day_nov_dec.csv', ['date', 'week_day', 'cnt_hits', 'cnt_hosts'], result2)\n",
    "\n",
    "v_date     = map(lambda x: datetime.date(x[0].year, x[0].month, x[0].day), result)\n",
    "v_cnt_hits = map(lambda x: x[2], result)\n",
    "v_cnt_hosts= map(lambda x: x[3], result)\n",
    "\n",
    "fig1 = plt.figure(figsize = (16,6))\n",
    "plt.subplot(1,2,1)\n",
    "plt.plot(v_date,v_cnt_hits,'b-',label='hits')\n",
    "plt.plot(v_date,v_cnt_hosts,'r--',label='hosts')\n",
    "plt.xticks(rotation='vertical')\n",
    "plt.grid(True)\n",
    "plt.legend(loc='upper right')\n",
    "#plt.xlabel('day')\n",
    "plt.ylabel('count')\n",
    "plt.subplot(1,2,2)\n",
    "plt.plot(v_cnt_hits, v_cnt_hosts, 'yo')\n",
    "plt.grid(True)\n",
    "plt.xlabel('count hits')\n",
    "plt.ylabel('count unique hosts')\n",
    "plt.show()\n",
    "    \n",
    "\n",
    "# for x in result2:\n",
    "#     print '%s | %s | %5d | %5d' % tuple(x)\n"
   ]
  },
  {
   "cell_type": "markdown",
   "metadata": {},
   "source": [
    " * The first plot above visualizes how the traffic changes over time. It is higher on business days and drops on weekends. Then it tends to drop even more during the holiday season in the end of December.\n",
    " * The second plot illustrates the relationship between total number of requests and count distinct hosts for the same period of time. Visually it appears to be very close to linear."
   ]
  },
  {
   "cell_type": "markdown",
   "metadata": {},
   "source": [
    "#### Active hosts\n",
    "\n",
    "Suppose we are interested in the most active hosts.\n",
    "Here we are selecting hosts that have been online at least 25 different days.\n",
    "Then we are registering a temporary table with columns host name (or IP) and number distinct days the host was active."
   ]
  },
  {
   "cell_type": "code",
   "execution_count": 22,
   "metadata": {
    "collapsed": false
   },
   "outputs": [
    {
     "name": "stdout",
     "output_type": "stream",
     "text": [
      "root\n",
      " |-- remote_host: string (nullable = true)\n",
      " |-- cnt: long (nullable = false)\n",
      "\n"
     ]
    }
   ],
   "source": [
    "q = (\"SELECT remote_host, COUNT(DISTINCT(date)) AS cnt \"\n",
    "     \"  FROM weblog \"\n",
    "     \" GROUP BY remote_host \"\n",
    "     \"HAVING cnt >= 25 \"\n",
    "     \" ORDER BY cnt DESC \"\n",
    "     )\n",
    "hostMultiDayDf = sqlContext.sql(q)\n",
    "hostMultiDayDf.registerTempTable('multi_day_hosts')\n",
    "hostMultiDayDf.printSchema()"
   ]
  },
  {
   "cell_type": "markdown",
   "metadata": {},
   "source": [
    "#### Count of active hosts"
   ]
  },
  {
   "cell_type": "code",
   "execution_count": 23,
   "metadata": {
    "collapsed": false
   },
   "outputs": [
    {
     "data": {
      "text/plain": [
       "[Row(cnt=1426)]"
      ]
     },
     "execution_count": 23,
     "metadata": {},
     "output_type": "execute_result"
    }
   ],
   "source": [
    "sqlContext.sql(\"SELECT count(*) cnt FROM multi_day_hosts\").collect()"
   ]
  },
  {
   "cell_type": "markdown",
   "metadata": {},
   "source": [
    "#### The 10 most active hosts by number of days online"
   ]
  },
  {
   "cell_type": "code",
   "execution_count": 24,
   "metadata": {
    "collapsed": false
   },
   "outputs": [
    {
     "name": "stdout",
     "output_type": "stream",
     "text": [
      "214 broadway.sfn.saskatoon.sk.ca\n",
      "214 sask.usask.ca\n",
      "214 moondog.usask.ca\n",
      "214 srv1.freenet.calgary.ab.ca\n",
      "214 duke.usask.ca\n",
      "212 freenet3.carleton.ca\n",
      "210 ccn.cs.dal.ca\n",
      "210 freenet2.carleton.ca\n",
      "210 freenet.buffalo.edu\n",
      "208 scn.org\n"
     ]
    }
   ],
   "source": [
    "## The 10 most active hosts by number of days online\n",
    "#\n",
    "res = sqlContext.sql(\n",
    "    \"SELECT * \"\n",
    "      \"FROM multi_day_hosts \"\n",
    "    \" ORDER BY cnt DESC \"\n",
    "    \" LIMIT 10 \").collect()\n",
    "\n",
    "for x in res:\n",
    "    print '%3d %s' % (x[1], x[0])"
   ]
  },
  {
   "cell_type": "markdown",
   "metadata": {},
   "source": [
    "#### Accessed URLs by host and date-time of access for the \"active\" hosts.\n",
    "\n",
    "Now we will do a join with the two tables to select the sequence of URLs the ative hosts have accessed. We want them sorted by host and date-time of access. Showing the first 10 results."
   ]
  },
  {
   "cell_type": "code",
   "execution_count": 25,
   "metadata": {
    "collapsed": false
   },
   "outputs": [
    {
     "name": "stdout",
     "output_type": "stream",
     "text": [
      "(u'128.233.10.226', datetime.datetime(1995, 10, 24, 17, 52, 37), u'/')\n",
      "(u'128.233.10.226', datetime.datetime(1995, 10, 24, 17, 52, 38), u'/images/logo.gif')\n",
      "(u'128.233.10.226', datetime.datetime(1995, 10, 24, 17, 53, 29), u'/')\n",
      "(u'128.233.10.226', datetime.datetime(1995, 10, 24, 17, 53, 31), u'/images/logo.gif')\n",
      "(u'128.233.10.226', datetime.datetime(1995, 10, 24, 18, 3, 49), u'/')\n",
      "(u'128.233.10.226', datetime.datetime(1995, 10, 24, 18, 3, 53), u'/images/logo.gif')\n",
      "(u'128.233.10.226', datetime.datetime(1995, 10, 24, 18, 29, 24), u'/')\n",
      "(u'128.233.10.226', datetime.datetime(1995, 10, 24, 18, 29, 27), u'/images/logo.gif')\n",
      "(u'128.233.10.226', datetime.datetime(1995, 10, 25, 11, 13, 26), u'/')\n",
      "(u'128.233.10.226', datetime.datetime(1995, 10, 25, 11, 13, 31), u'/images/logo.gif')\n"
     ]
    }
   ],
   "source": [
    "q = (\"SELECT w.remote_host, w.date_time, w.url \"\n",
    "     \"  FROM  weblog w JOIN multi_day_hosts m ON w.remote_host=m.remote_host \"\n",
    "     \" ORDER BY w.remote_host, w.date_time \"\n",
    "     )\n",
    "result = sqlContext.sql(q)\n",
    "result.count()\n",
    "\n",
    "for x in result.take(10):\n",
    "    print tuple(x)"
   ]
  },
  {
   "cell_type": "markdown",
   "metadata": {},
   "source": [
    "#### How many unique (distinct) URLs (endpoints) have been accessed in total? In fact, the number below includes also counts for same URL with distinct parameters. It does not mean that there are that many unique \"pages\"."
   ]
  },
  {
   "cell_type": "code",
   "execution_count": 26,
   "metadata": {
    "collapsed": false
   },
   "outputs": [
    {
     "data": {
      "text/plain": [
       "[Row(cnt_uniq_url=36522)]"
      ]
     },
     "execution_count": 26,
     "metadata": {},
     "output_type": "execute_result"
    }
   ],
   "source": [
    "q = (\"SELECT COUNT(DISTINCT(url)) AS cnt_uniq_url \"\n",
    "     \"  FROM weblog \"\n",
    "     )\n",
    "sqlContext.sql(q).collect()"
   ]
  },
  {
   "cell_type": "markdown",
   "metadata": {},
   "source": [
    "#### The top 20 hosts by number of unuque URLs accessed for the full period of 7 months. Uniqueness is defined same way as above. If same endpoint is accessed with different parameters, it counts that many times for each unique set of parameters."
   ]
  },
  {
   "cell_type": "code",
   "execution_count": 27,
   "metadata": {
    "collapsed": false
   },
   "outputs": [
    {
     "data": {
      "text/plain": [
       "[Row(remote_host=u'scooter.pa-x.dec.com', cnt_uniq_url=3938),\n",
       " Row(remote_host=u'duke.usask.ca', cnt_uniq_url=3390),\n",
       " Row(remote_host=u'cwis.usask.ca', cnt_uniq_url=2233),\n",
       " Row(remote_host=u'access.usask.ca', cnt_uniq_url=1472),\n",
       " Row(remote_host=u'sask.usask.ca', cnt_uniq_url=1286),\n",
       " Row(remote_host=u'skynet.usask.ca', cnt_uniq_url=1106),\n",
       " Row(remote_host=u'crimpshrine.atext.com', cnt_uniq_url=1070),\n",
       " Row(remote_host=u'broadway.sfn.saskatoon.sk.ca', cnt_uniq_url=935),\n",
       " Row(remote_host=u'herald.usask.ca', cnt_uniq_url=826),\n",
       " Row(remote_host=u'imhotep.usask.ca', cnt_uniq_url=821),\n",
       " Row(remote_host=u'explorer.sasknet.sk.ca', cnt_uniq_url=781),\n",
       " Row(remote_host=u'alf.usask.ca', cnt_uniq_url=773),\n",
       " Row(remote_host=u'grapes.usask.ca', cnt_uniq_url=769),\n",
       " Row(remote_host=u'muskat.usask.ca', cnt_uniq_url=732),\n",
       " Row(remote_host=u'204.62.245.32', cnt_uniq_url=674),\n",
       " Row(remote_host=u'mac40212.usask.ca', cnt_uniq_url=659),\n",
       " Row(remote_host=u'poppy.hensa.ac.uk', cnt_uniq_url=652),\n",
       " Row(remote_host=u'moondog.usask.ca', cnt_uniq_url=612),\n",
       " Row(remote_host=u'skorpio3.usask.ca', cnt_uniq_url=606),\n",
       " Row(remote_host=u'webgate1.mot.com', cnt_uniq_url=589)]"
      ]
     },
     "execution_count": 27,
     "metadata": {},
     "output_type": "execute_result"
    }
   ],
   "source": [
    "q = (\"SELECT remote_host, COUNT(DISTINCT(url)) AS cnt_uniq_url \"\n",
    "     \"  FROM weblog \"\n",
    "     \" GROUP BY remote_host \"\n",
    "     \" ORDER BY cnt_uniq_url DESC \"\n",
    "     \" LIMIT 20\"\n",
    "     )\n",
    "sqlContext.sql(q).collect()\n"
   ]
  },
  {
   "cell_type": "markdown",
   "metadata": {
    "collapsed": true
   },
   "source": [
    "---"
   ]
  }
 ],
 "metadata": {
  "kernelspec": {
   "display_name": "Python 2",
   "language": "python",
   "name": "python2"
  },
  "language_info": {
   "codemirror_mode": {
    "name": "ipython",
    "version": 2
   },
   "file_extension": ".py",
   "mimetype": "text/x-python",
   "name": "python",
   "nbconvert_exporter": "python",
   "pygments_lexer": "ipython2",
   "version": "2.7.10"
  }
 },
 "nbformat": 4,
 "nbformat_minor": 0
}
