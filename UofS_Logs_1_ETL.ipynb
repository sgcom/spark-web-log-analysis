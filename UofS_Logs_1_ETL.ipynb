{
 "cells": [
  {
   "cell_type": "markdown",
   "metadata": {},
   "source": [
    "# Exploring a public web log data set using PySpark\n",
    "\n",
    "This notebook uses Apache Spark to explore a publicly available web log data set. \n",
    "\n",
    "This is the first part, which does ETL - reads the raw log file, parses each records, and loads it into columnar Parquet format. Then the parquet data store will be available for further analysis. \n",
    "\n",
    "The dataset is available from [The Internet Traffic Archive](http://ita.ee.lbl.gov/index.html).\n",
    "\n",
    "#### Dataset source: http://ita.ee.lbl.gov/html/contrib/Sask-HTTP.html\n",
    "\n",
    "#### Dataset description:\n",
    "\n",
    "This trace contains seven months’ worth of all HTTP requests to the University of Saskatchewan's WWW server. The University of Saskatchewan is located in Saskatoon, Saskatchewan, Canada.\n",
    "\n",
    "The log contains over **_2,400,000_** lines from **_June to December 1995_** - the early days of the World Wide Web."
   ]
  },
  {
   "cell_type": "markdown",
   "metadata": {},
   "source": [
    "## Part 1: Parse the log file and load its contents into parquet format."
   ]
  },
  {
   "cell_type": "markdown",
   "metadata": {},
   "source": [
    "### Initialize the Apache Spark context & config"
   ]
  },
  {
   "cell_type": "code",
   "execution_count": 1,
   "metadata": {
    "collapsed": false
   },
   "outputs": [],
   "source": [
    "## Initialize\n",
    "#\n",
    "import findspark\n",
    "import os\n",
    "findspark.init()\n",
    "\n",
    "import pyspark\n",
    "sc = pyspark.SparkContext()"
   ]
  },
  {
   "cell_type": "code",
   "execution_count": 2,
   "metadata": {
    "collapsed": false
   },
   "outputs": [
    {
     "data": {
      "text/plain": [
       "(u'1.5.0',\n",
       " [(u'spark.driver.memory', u'6g'),\n",
       "  (u'spark.rdd.compress', u'True'),\n",
       "  (u'spark.master', u'local[8]'),\n",
       "  (u'spark.serializer.objectStreamReset', u'100'),\n",
       "  (u'spark.submit.deployMode', u'client'),\n",
       "  (u'spark.app.name', u'pyspark-shell')])"
      ]
     },
     "execution_count": 2,
     "metadata": {},
     "output_type": "execute_result"
    }
   ],
   "source": [
    "# Check the Spark context & config\n",
    "#\n",
    "sc.version, sc._conf.getAll()"
   ]
  },
  {
   "cell_type": "markdown",
   "metadata": {},
   "source": [
    "### Python imports"
   ]
  },
  {
   "cell_type": "code",
   "execution_count": 3,
   "metadata": {
    "collapsed": true
   },
   "outputs": [],
   "source": [
    "import re\n",
    "import math\n",
    "import time, datetime\n",
    "import os\n",
    "import operator as op\n",
    "from pyspark.sql import Row, SQLContext\n",
    "from pyspark import *"
   ]
  },
  {
   "cell_type": "markdown",
   "metadata": {},
   "source": [
    "### Data file location settings"
   ]
  },
  {
   "cell_type": "code",
   "execution_count": 4,
   "metadata": {
    "collapsed": false
   },
   "outputs": [
    {
     "name": "stdout",
     "output_type": "stream",
     "text": [
      "./data/UofS_access_log\n"
     ]
    }
   ],
   "source": [
    "DATA_DIR = './data'\n",
    "LOG_FILE_NAME = 'UofS_access_log'\n",
    "\n",
    "logFileName = os.path.join(DATA_DIR, LOG_FILE_NAME)\n",
    "print logFileName"
   ]
  },
  {
   "cell_type": "code",
   "execution_count": 5,
   "metadata": {
    "collapsed": false
   },
   "outputs": [
    {
     "name": "stdout",
     "output_type": "stream",
     "text": [
      "2408625 ./data/UofS_access_log\r\n"
     ]
    }
   ],
   "source": [
    "# Using the Unix wc command to get the number of lines in the log file\n",
    "#\n",
    "!wc -l ./data/UofS_access_log"
   ]
  },
  {
   "cell_type": "markdown",
   "metadata": {},
   "source": [
    "### Regular expression to use for parsing a log line"
   ]
  },
  {
   "cell_type": "code",
   "execution_count": 6,
   "metadata": {
    "collapsed": true
   },
   "outputs": [],
   "source": [
    "p_log_line = re.compile(r'^(\\S+)\\s(\\S+)\\s(\\S+)\\s\\[(\\d*)/([A-Za-z]+)/(\\d+):(\\d*):(\\d*):(\\d*) .*\\]\\s\"([A-Z]+) +(\\S+)[^\"]*\" (\\d+) (\\S+)')"
   ]
  },
  {
   "cell_type": "markdown",
   "metadata": {},
   "source": [
    "### Parse log  line function"
   ]
  },
  {
   "cell_type": "code",
   "execution_count": 7,
   "metadata": {
    "collapsed": true
   },
   "outputs": [],
   "source": [
    "month2number_map = {\n",
    "    'Jan': 1, 'Feb': 2, 'Mar':3, 'Apr':4, 'May':5, 'Jun':6, 'Jul':7,\n",
    "    'Aug':8,  'Sep': 9, 'Oct':10, 'Nov': 11, 'Dec': 12 \n",
    "}\n",
    "\n",
    "def parse_log_line(line):\n",
    "    m = p_log_line.match(line)\n",
    "    if m:\n",
    "        dtm = datetime.datetime(int(m.group(6)),\n",
    "                             month2number_map[m.group(5)],\n",
    "                             int(m.group(4)),\n",
    "                             int(m.group(7)),\n",
    "                             int(m.group(8)),\n",
    "                             int(m.group(9)))\n",
    "        date = datetime.date(dtm.year, dtm.month, dtm.day)\n",
    "        \n",
    "        epo_seconds = (dtm - datetime.datetime(1970,1,1)).total_seconds()\n",
    "        respsize = 0\n",
    "        if m.group(13) != '-':\n",
    "            respsize = int(m.group(13))\n",
    "        return( Row(\n",
    "            remote_host = m.group(1), # host name or IP, where the request comes from\n",
    "            user_id     = m.group(3), \n",
    "            date_time   = dtm,\n",
    "            week_day    = dtm.weekday() + 1,\n",
    "            epo_seconds = epo_seconds,\n",
    "            http_verb   = m.group(10), \n",
    "            url         = m.group(11), \n",
    "            http_status = int(m.group(12)), \n",
    "            resp_size   = respsize, \n",
    "        ), 1)             ### line parsed successfully \n",
    "    return (line, 0)      ### not parsed successfully     \n"
   ]
  },
  {
   "cell_type": "markdown",
   "metadata": {},
   "source": [
    "### Check for lines that failed to parse"
   ]
  },
  {
   "cell_type": "code",
   "execution_count": 8,
   "metadata": {
    "collapsed": false
   },
   "outputs": [],
   "source": [
    "## Uncomment this if need to check for lines that failed to parse.\n",
    "## Some 45 lines won't parse successfully. Looking at them, \n",
    "## they have rally strange format. Let's say we can do without them.\n",
    "#\n",
    "# not_parsed_rdd = (sc\n",
    "#                    .textFile(logFileName)\n",
    "#                    .map(parse_log_line)\n",
    "#                    .filter(lambda s: s[1] == 0)\n",
    "#                    .map(lambda s: s[0]) )\n",
    "\n",
    "# print \"not parsed: \", not_parsed_rdd.count(), ' lines'\n",
    "# for x in not_parsed_rdd.take(10):\n",
    "#     print x"
   ]
  },
  {
   "cell_type": "markdown",
   "metadata": {},
   "source": [
    "### Get the successfully parsed lines into a RDD.  \n",
    "\n",
    "Then check out the number of lines and what the result looks like."
   ]
  },
  {
   "cell_type": "code",
   "execution_count": 9,
   "metadata": {
    "collapsed": false
   },
   "outputs": [
    {
     "name": "stdout",
     "output_type": "stream",
     "text": [
      "CPU times: user 6.93 ms, sys: 1.84 ms, total: 8.77 ms\n",
      "Wall time: 29.2 s\n",
      "parsed successfully:  2408580  lines\n",
      "Row(date_time=datetime.datetime(1995, 6, 1, 0, 0, 59), epo_seconds=801964859.0, http_status=200, http_verb=u'GET', remote_host=u'202.32.92.47', resp_size=271, url=u'/~scottp/publish.html', user_id=u'-', week_day=4)\n"
     ]
    }
   ],
   "source": [
    "parsed_rdd = (sc\n",
    "               .textFile(logFileName)\n",
    "               .map(parse_log_line)\n",
    "               .filter(lambda s: s[1] == 1)\n",
    "               .map(lambda s: s[0])\n",
    "               .persist(StorageLevel.MEMORY_AND_DISK))\n",
    "%time count_parsed = parsed_rdd.count()\n",
    "print \"parsed successfully: \", count_parsed, ' lines'\n",
    "print parsed_rdd.first()"
   ]
  },
  {
   "cell_type": "markdown",
   "metadata": {},
   "source": [
    "### Now we will save the log data in parquet format for further analysis. \n",
    "#### This is to be done only once. It will give error if the \"file\" is already there."
   ]
  },
  {
   "cell_type": "code",
   "execution_count": 10,
   "metadata": {
    "collapsed": false
   },
   "outputs": [
    {
     "name": "stdout",
     "output_type": "stream",
     "text": [
      "root\n",
      " |-- date_time: timestamp (nullable = true)\n",
      " |-- epo_seconds: double (nullable = true)\n",
      " |-- http_status: long (nullable = true)\n",
      " |-- http_verb: string (nullable = true)\n",
      " |-- remote_host: string (nullable = true)\n",
      " |-- resp_size: long (nullable = true)\n",
      " |-- url: string (nullable = true)\n",
      " |-- user_id: string (nullable = true)\n",
      " |-- week_day: long (nullable = true)\n",
      "\n"
     ]
    }
   ],
   "source": [
    "## Save to parquet format\n",
    "## Do this only once; it will give error if the \"file\" is already there.\n",
    "#\n",
    "sqlContext = SQLContext(sc)\n",
    "weblogDf   = sqlContext.createDataFrame(parsed_rdd)\n",
    "#\n",
    "weblogDf.write.parquet(\"data/UofS_access_log.parquet\")\n",
    "weblogDf.printSchema()"
   ]
  },
  {
   "cell_type": "markdown",
   "metadata": {
    "collapsed": true
   },
   "source": [
    "### Load done.  Will read the data and explore it further in another notebook."
   ]
  }
 ],
 "metadata": {
  "kernelspec": {
   "display_name": "Python 2",
   "language": "python",
   "name": "python2"
  },
  "language_info": {
   "codemirror_mode": {
    "name": "ipython",
    "version": 2
   },
   "file_extension": ".py",
   "mimetype": "text/x-python",
   "name": "python",
   "nbconvert_exporter": "python",
   "pygments_lexer": "ipython2",
   "version": "2.7.10"
  }
 },
 "nbformat": 4,
 "nbformat_minor": 0
}
